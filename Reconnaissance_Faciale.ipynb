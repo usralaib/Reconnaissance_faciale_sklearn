{
  "nbformat": 4,
  "nbformat_minor": 0,
  "metadata": {
    "colab": {
      "provenance": []
    },
    "kernelspec": {
      "name": "python3",
      "display_name": "Python 3"
    },
    "language_info": {
      "name": "python"
    }
  },
  "cells": [
    {
      "cell_type": "code",
      "execution_count": null,
      "metadata": {
        "id": "WPChq3eUGwD0"
      },
      "outputs": [],
      "source": [
        "import numpy as np\n",
        "import matplotlib.pyplot as plt\n",
        "import os\n",
        "import cv2 as cv\n",
        "import glob\n",
        "from PIL import Image as im\n",
        "from skimage.feature import hog\n",
        "from skimage.transform import resize\n",
        "import pandas as pd\n",
        "from sklearn.model_selection import train_test_split\n",
        "from sklearn.neural_network import MLPClassifier\n",
        "from sklearn.metrics import accuracy_score\n",
        "from sklearn.metrics import plot_confusion_matrix\n",
        "from sklearn.metrics import classification_report\n",
        "from sklearn import metrics\n",
        "from sklearn.neighbors import KNeighborsClassifier \n",
        "from sklearn.metrics import f1_score"
      ]
    },
    {
      "cell_type": "markdown",
      "source": [
        "# 1. Prétraitement:"
      ],
      "metadata": {
        "id": "rp9XOp9zS9ls"
      }
    },
    {
      "cell_type": "markdown",
      "source": [
        "# 1.1. Rajouter l’extension « .gif » aux 165 images de la base:"
      ],
      "metadata": {
        "id": "srPGgPdlVg6d"
      }
    },
    {
      "cell_type": "code",
      "source": [
        "def laod_images_opencv_extisions(data_path,saving_path): \n",
        "  for file_name in os.listdir(data_path): #cette commande fait des iteration en prenant un element du dossier dont le chemain est : data_path\n",
        "    if  not 'txt' in file_name and not 'DS_Store' in file_name: # on elimine les fichiers .txt et DS_Store\n",
        "      image = im.open(data_path + '/' + file_name) #On utlise le package im de la librerie PIL pour ovrir les images\n",
        "      subject_num = file_name.split('.')[0] #On garde la partie avant l'extention \n",
        "      img_path = saving_path + '/' + subject_num + '/' + file_name + '.gif' #On ajoute l'exention gif\n",
        "      if not os.path.isdir(saving_path + '/' + subject_num):\n",
        "       os.mkdir(saving_path + '/' + subject_num)   #On cree les nouveau fichiers des images avec l'extention .gif\n",
        "      if not os.path.isfile(img_path):\n",
        "             image.save(img_path)\n",
        "    else:\n",
        "         print(\"Already Completed\")\n",
        "\n",
        "\n",
        "\n"
      ],
      "metadata": {
        "id": "K3Ezw_cLSBvp"
      },
      "execution_count": null,
      "outputs": []
    },
    {
      "cell_type": "markdown",
      "source": [
        "# Commentaires:\n",
        "\n",
        "\n",
        "*   Dans cette étape, on a définie une fonction **laod_images_opencv_extisions** qui prend en deux arguments: le chemin du dossier qui contient les images, et le chemin du dossier qui contient les images en leurs ajoutant l'extension \".gif\". cette fonction prend toutes les images et leurs ajoutent l'extension \".gif\"\n",
        "\n",
        "\n"
      ],
      "metadata": {
        "id": "ExDK0MR4ThrY"
      }
    },
    {
      "cell_type": "code",
      "source": [
        "laod_images_opencv_extisions('/content/drive/MyDrive/Projet_Tim/DataSet/yalefaces','/content/drive/MyDrive/Projet_Tim/DataSet/ajout_des_gif')"
      ],
      "metadata": {
        "colab": {
          "base_uri": "https://localhost:8080/"
        },
        "id": "1qM3NNNDTedf",
        "outputId": "008b1d25-1450-4644-8939-eac5c6b4b518"
      },
      "execution_count": null,
      "outputs": [
        {
          "output_type": "stream",
          "name": "stdout",
          "text": [
            "Already Completed\n"
          ]
        }
      ]
    },
    {
      "cell_type": "code",
      "source": [
        "from google.colab import drive\n",
        "drive.mount('/content/drive')"
      ],
      "metadata": {
        "colab": {
          "base_uri": "https://localhost:8080/"
        },
        "id": "qUIPN9Px-SGW",
        "outputId": "a3b709ae-e4b4-4525-bf56-49615ec668b1"
      },
      "execution_count": null,
      "outputs": [
        {
          "output_type": "stream",
          "name": "stdout",
          "text": [
            "Mounted at /content/drive\n"
          ]
        }
      ]
    },
    {
      "cell_type": "markdown",
      "source": [
        "# Commentaires:\n",
        "On applique la fonction **laod_images_opencv_extisions** sur notre dossier d'images."
      ],
      "metadata": {
        "id": "nn_pS_M7VSey"
      }
    },
    {
      "cell_type": "markdown",
      "source": [
        "# 1.2.récupérer uniquement la tête de la personne:"
      ],
      "metadata": {
        "id": "Y_UuemHAVob1"
      }
    },
    {
      "cell_type": "code",
      "source": [
        "face_cascade=cv.CascadeClassifier(cv.data.haarcascades + \"haarcascade_frontalface_default.xml\") \n",
        "data_path=r'/content/drive/MyDrive/Projet_Tim/DataSet/ajout_des_gif'\n",
        "new_path = '/content/drive/MyDrive/Projet_Tim/DataSet/new_path' #le chemin qui va contenir les nouvelle images coupées.\n",
        "for file_name in os.listdir(data_path): #On va parcourir tous les fichiers dans notre dossier.\n",
        "    p = os.makedirs(new_path+'/'+file_name)  \n",
        "    for image in os.listdir(data_path+'/'+file_name):#Pour chaque image dans un fichier \n",
        "        gray = plt.imread(data_path+'/'+file_name+'/'+image) #lire l'image\n",
        "        face = face_cascade.detectMultiScale(gray, 1.1 , 5) #cette fonction detecte le visage dans une image\n",
        "        x=face[0][0]\n",
        "        y=face[0][1]\n",
        "        w=face[0][2]\n",
        "        h=face[0][3]\n",
        "        cv.rectangle(gray, (x,y), (x+w, y+h), (0,0,0), 2) #On va definir notre rectangle qui delimite le visage de la personne dans l'image.\n",
        "        crop=gray[y:y+h,x:x+w] #Couper l'image suivant le rectangle predifinie.\n",
        "        print(crop.shape)\n",
        "        cv.imwrite(new_path+'/'+file_name+'/'+image+\".png\",crop ) #enregister l'image obtenue dans le nouveau dossier"
      ],
      "metadata": {
        "id": "i1-eI8O83aNV",
        "colab": {
          "base_uri": "https://localhost:8080/"
        },
        "outputId": "b214e28f-8345-4196-d8b9-f255a11ee4c8"
      },
      "execution_count": null,
      "outputs": [
        {
          "output_type": "stream",
          "name": "stdout",
          "text": [
            "(150, 150, 4)\n",
            "(163, 163, 4)\n",
            "(162, 162, 4)\n",
            "(161, 161, 4)\n",
            "(144, 144, 4)\n",
            "(157, 157, 4)\n",
            "(155, 155, 4)\n",
            "(134, 134, 4)\n",
            "(166, 166, 4)\n",
            "(163, 163, 4)\n",
            "(158, 158, 4)\n",
            "(160, 160, 4)\n",
            "(156, 156, 4)\n",
            "(158, 158, 4)\n",
            "(155, 155, 4)\n",
            "(156, 156, 4)\n",
            "(156, 156, 4)\n",
            "(157, 157, 4)\n",
            "(154, 154, 4)\n",
            "(155, 155, 4)\n",
            "(164, 164, 4)\n",
            "(151, 151, 4)\n",
            "(140, 140, 4)\n",
            "(157, 157, 4)\n",
            "(141, 141, 4)\n",
            "(135, 135, 4)\n",
            "(146, 146, 4)\n",
            "(146, 146, 4)\n",
            "(135, 135, 4)\n",
            "(141, 141, 4)\n",
            "(143, 143, 4)\n",
            "(137, 137, 4)\n",
            "(153, 153, 4)\n",
            "(149, 149, 4)\n",
            "(157, 157, 4)\n",
            "(151, 151, 4)\n",
            "(147, 147, 4)\n",
            "(155, 155, 4)\n",
            "(159, 159, 4)\n",
            "(139, 139, 4)\n",
            "(153, 153, 4)\n",
            "(156, 156, 4)\n",
            "(151, 151, 4)\n",
            "(159, 159, 4)\n",
            "(162, 162, 4)\n",
            "(159, 159, 4)\n",
            "(149, 149, 4)\n",
            "(164, 164, 4)\n",
            "(161, 161, 4)\n",
            "(148, 148, 4)\n",
            "(161, 161, 4)\n",
            "(159, 159, 4)\n",
            "(158, 158, 4)\n",
            "(163, 163, 4)\n",
            "(149, 149, 4)\n",
            "(162, 162, 4)\n",
            "(155, 155, 4)\n",
            "(154, 154, 4)\n",
            "(151, 151, 4)\n",
            "(156, 156, 4)\n",
            "(156, 156, 4)\n",
            "(164, 164, 4)\n",
            "(156, 156, 4)\n",
            "(154, 154, 4)\n",
            "(154, 154, 4)\n",
            "(158, 158, 4)\n",
            "(144, 144, 4)\n",
            "(150, 150, 4)\n",
            "(145, 145, 4)\n",
            "(140, 140, 4)\n",
            "(143, 143, 4)\n",
            "(143, 143, 4)\n",
            "(138, 138, 4)\n",
            "(142, 142, 4)\n",
            "(156, 156, 4)\n",
            "(142, 142, 4)\n",
            "(137, 137, 4)\n",
            "(162, 162, 4)\n",
            "(159, 159, 4)\n",
            "(152, 152, 4)\n",
            "(163, 163, 4)\n",
            "(160, 160, 4)\n",
            "(159, 159, 4)\n",
            "(153, 153, 4)\n",
            "(157, 157, 4)\n",
            "(161, 161, 4)\n",
            "(158, 158, 4)\n",
            "(162, 162, 4)\n",
            "(149, 149, 4)\n",
            "(151, 151, 4)\n",
            "(148, 148, 4)\n",
            "(149, 149, 4)\n",
            "(152, 152, 4)\n",
            "(144, 144, 4)\n",
            "(149, 149, 4)\n",
            "(144, 144, 4)\n",
            "(149, 149, 4)\n",
            "(154, 154, 4)\n",
            "(153, 153, 4)\n",
            "(161, 161, 4)\n",
            "(154, 154, 4)\n",
            "(159, 159, 4)\n",
            "(160, 160, 4)\n",
            "(161, 161, 4)\n",
            "(161, 161, 4)\n",
            "(161, 161, 4)\n",
            "(150, 150, 4)\n",
            "(161, 161, 4)\n",
            "(165, 165, 4)\n",
            "(159, 159, 4)\n",
            "(155, 155, 4)\n",
            "(148, 148, 4)\n",
            "(162, 162, 4)\n",
            "(152, 152, 4)\n",
            "(142, 142, 4)\n",
            "(154, 154, 4)\n",
            "(153, 153, 4)\n",
            "(137, 137, 4)\n",
            "(151, 151, 4)\n",
            "(157, 157, 4)\n",
            "(157, 157, 4)\n",
            "(163, 163, 4)\n",
            "(166, 166, 4)\n",
            "(158, 158, 4)\n",
            "(155, 155, 4)\n",
            "(158, 158, 4)\n",
            "(158, 158, 4)\n",
            "(164, 164, 4)\n",
            "(170, 170, 4)\n",
            "(164, 164, 4)\n",
            "(168, 168, 4)\n",
            "(155, 155, 4)\n",
            "(132, 132, 4)\n",
            "(141, 141, 4)\n",
            "(143, 143, 4)\n",
            "(136, 136, 4)\n",
            "(138, 138, 4)\n",
            "(139, 139, 4)\n",
            "(135, 135, 4)\n",
            "(140, 140, 4)\n",
            "(142, 142, 4)\n",
            "(149, 149, 4)\n",
            "(136, 136, 4)\n",
            "(156, 156, 4)\n",
            "(154, 154, 4)\n",
            "(151, 151, 4)\n",
            "(151, 151, 4)\n",
            "(154, 154, 4)\n",
            "(154, 154, 4)\n",
            "(147, 147, 4)\n",
            "(146, 146, 4)\n",
            "(154, 154, 4)\n",
            "(152, 152, 4)\n",
            "(150, 150, 4)\n",
            "(150, 150, 4)\n",
            "(163, 163, 4)\n",
            "(150, 150, 4)\n",
            "(158, 158, 4)\n",
            "(144, 144, 4)\n",
            "(150, 150, 4)\n",
            "(146, 146, 4)\n",
            "(149, 149, 4)\n",
            "(160, 160, 4)\n",
            "(164, 164, 4)\n",
            "(145, 145, 4)\n"
          ]
        }
      ]
    },
    {
      "cell_type": "markdown",
      "source": [
        "# Commentaires:\n",
        "Dans cette étape, on a crée un nouveau dossier qui va contenir les images coupées, On a utiliser la fonction **face_cascade.detectMultiScale()** pour detecter le visage d'une personne dans une image et puis on a garder que cette partie, et a la fin on a enregistrée les images resultantes dans un autre dossier."
      ],
      "metadata": {
        "id": "ppAYMK6wW2Vj"
      }
    },
    {
      "cell_type": "markdown",
      "source": [
        "# 2. Génération des caractéristiques:"
      ],
      "metadata": {
        "id": "AHf0HDTDTE4V"
      }
    },
    {
      "cell_type": "code",
      "source": [
        "vect_classes=[\"classe 1\",\"classe 2\",\"classe 3\",\"classe 4\",\"classe 5\",\"classe 6\",\"classe 7\",\"classe 8\",\"classe 9\",\"classe 10\",\"classe 11\",\"classe 12\",\"classe 13\",\"classe 14\",\"classe 15\"]\n",
        "#On cree un vecteur qui contient nos 15 classes ou chaque classe represente une personne.\n",
        "df=[]\n",
        "vect_gradient=[]\n",
        "gradient = []\n",
        "i=0\n",
        "for file_name in os.listdir(new_path): #Parcourir les fichier d'images dans notre dossier.\n",
        "  for image in os.listdir(new_path+'/'+file_name): #Pour chaque image dans le fichier\n",
        "    im =plt.imread(new_path+'/'+file_name+'/'+image) # lire l'image\n",
        "    im= resize(im,(128,64)) \n",
        "    fv, hog_image = hog(im, orientations=9, pixels_per_cell=(8,8),cells_per_block=(2,2), visualize\n",
        "                        =True, multichannel=True) # Calcule du vecteur de gradients\n",
        "    vect_gradient.append(fv)\n",
        "    gradient.append(hog_image)\n",
        "  df_vect_gradient=pd.DataFrame(vect_gradient) #Chaque fichier on a cree un tableau qui contient tous les vecteur gradients puis on l'a converti en DataFrame\n",
        "  vect_gradient=[]\n",
        "  df_vect_gradient[\"classes\"]=vect_classes[i] # Creation d'une colonne \"classes\" dont la valeur est la classe adequate pour chaque fichier\n",
        "  df.append(df_vect_gradient) # ajouter cette dataframe comme element dans le tableau df\n",
        "  i=i+1\n",
        "\n",
        "  \n",
        "  \n",
        "\n",
        "\n",
        "\n",
        "\n",
        "\n",
        "\n",
        "    \n",
        "    \n"
      ],
      "metadata": {
        "id": "4U8B6Rlu3oal"
      },
      "execution_count": null,
      "outputs": []
    },
    {
      "cell_type": "code",
      "source": [
        "df[7]"
      ],
      "metadata": {
        "colab": {
          "base_uri": "https://localhost:8080/",
          "height": 487
        },
        "id": "f7WwXpgkJwU1",
        "outputId": "dc997300-45da-4b69-8fac-85f5982d9b45"
      },
      "execution_count": null,
      "outputs": [
        {
          "output_type": "execute_result",
          "data": {
            "text/plain": [
              "           0         1         2         3         4    5         6         7  \\\n",
              "0   0.455023  0.106021  0.000000  0.102942  0.455023  0.0  0.000000  0.065425   \n",
              "1   0.415043  0.113654  0.004350  0.107449  0.415043  0.0  0.000000  0.000000   \n",
              "2   0.436051  0.155389  0.001869  0.077546  0.436051  0.0  0.000488  0.069154   \n",
              "3   0.448442  0.148495  0.004591  0.080256  0.448442  0.0  0.000000  0.067702   \n",
              "4   0.438471  0.160729  0.000000  0.080993  0.438471  0.0  0.067009  0.000000   \n",
              "5   0.415043  0.113654  0.004350  0.107449  0.415043  0.0  0.000000  0.000000   \n",
              "6   0.480578  0.139024  0.001844  0.125666  0.480578  0.0  0.000000  0.000000   \n",
              "7   0.374819  0.079727  0.000000  0.077713  0.374819  0.0  0.000000  0.000000   \n",
              "8   0.447242  0.153603  0.000000  0.078367  0.447242  0.0  0.000000  0.063181   \n",
              "9   0.433291  0.306027  0.000000  0.084442  0.433291  0.0  0.060051  0.000000   \n",
              "10  0.449486  0.230422  0.000000  0.080482  0.449486  0.0  0.000000  0.062135   \n",
              "\n",
              "           8         9  ...      3771      3772      3773      3774      3775  \\\n",
              "0   0.007961  0.002342  ...  0.224744  0.000000  0.000000  0.114708  0.345003   \n",
              "1   0.084414  0.037140  ...  0.166059  0.000000  0.000000  0.087678  0.296472   \n",
              "2   0.081273  0.026098  ...  0.223356  0.061970  0.024733  0.295262  0.330698   \n",
              "3   0.068507  0.019990  ...  0.210995  0.036882  0.041215  0.105543  0.334964   \n",
              "4   0.078056  0.001118  ...  0.179242  0.006794  0.038865  0.150484  0.320465   \n",
              "5   0.084414  0.037140  ...  0.166059  0.000000  0.000000  0.087678  0.296472   \n",
              "6   0.023302  0.000736  ...  0.306776  0.037507  0.006594  0.144777  0.306776   \n",
              "7   0.000000  0.373040  ...  0.241885  0.021221  0.049057  0.118562  0.317110   \n",
              "8   0.063433  0.001869  ...  0.238034  0.038635  0.026875  0.157693  0.325047   \n",
              "9   0.206268  0.030825  ...  0.186014  0.013763  0.032731  0.154388  0.304477   \n",
              "10  0.000000  0.004562  ...  0.193850  0.012697  0.039020  0.157835  0.321609   \n",
              "\n",
              "        3776      3777      3778      3779   classes  \n",
              "0   0.000000  0.000000  0.000000  0.000000  classe 8  \n",
              "1   0.088445  0.106629  0.296472  0.296472  classe 8  \n",
              "2   0.064179  0.011052  0.055630  0.071249  classe 8  \n",
              "3   0.028698  0.174180  0.211882  0.072470  classe 8  \n",
              "4   0.033440  0.054427  0.076588  0.135820  classe 8  \n",
              "5   0.088445  0.106629  0.296472  0.296472  classe 8  \n",
              "6   0.000000  0.165245  0.306776  0.180292  classe 8  \n",
              "7   0.025589  0.174030  0.153656  0.079967  classe 8  \n",
              "8   0.054149  0.051403  0.037044  0.045980  classe 8  \n",
              "9   0.044695  0.058784  0.126524  0.111406  classe 8  \n",
              "10  0.074956  0.044389  0.109385  0.046008  classe 8  \n",
              "\n",
              "[11 rows x 3781 columns]"
            ],
            "text/html": [
              "\n",
              "  <div id=\"df-04fd9b41-5644-46a7-b6c4-788be514c0a1\">\n",
              "    <div class=\"colab-df-container\">\n",
              "      <div>\n",
              "<style scoped>\n",
              "    .dataframe tbody tr th:only-of-type {\n",
              "        vertical-align: middle;\n",
              "    }\n",
              "\n",
              "    .dataframe tbody tr th {\n",
              "        vertical-align: top;\n",
              "    }\n",
              "\n",
              "    .dataframe thead th {\n",
              "        text-align: right;\n",
              "    }\n",
              "</style>\n",
              "<table border=\"1\" class=\"dataframe\">\n",
              "  <thead>\n",
              "    <tr style=\"text-align: right;\">\n",
              "      <th></th>\n",
              "      <th>0</th>\n",
              "      <th>1</th>\n",
              "      <th>2</th>\n",
              "      <th>3</th>\n",
              "      <th>4</th>\n",
              "      <th>5</th>\n",
              "      <th>6</th>\n",
              "      <th>7</th>\n",
              "      <th>8</th>\n",
              "      <th>9</th>\n",
              "      <th>...</th>\n",
              "      <th>3771</th>\n",
              "      <th>3772</th>\n",
              "      <th>3773</th>\n",
              "      <th>3774</th>\n",
              "      <th>3775</th>\n",
              "      <th>3776</th>\n",
              "      <th>3777</th>\n",
              "      <th>3778</th>\n",
              "      <th>3779</th>\n",
              "      <th>classes</th>\n",
              "    </tr>\n",
              "  </thead>\n",
              "  <tbody>\n",
              "    <tr>\n",
              "      <th>0</th>\n",
              "      <td>0.455023</td>\n",
              "      <td>0.106021</td>\n",
              "      <td>0.000000</td>\n",
              "      <td>0.102942</td>\n",
              "      <td>0.455023</td>\n",
              "      <td>0.0</td>\n",
              "      <td>0.000000</td>\n",
              "      <td>0.065425</td>\n",
              "      <td>0.007961</td>\n",
              "      <td>0.002342</td>\n",
              "      <td>...</td>\n",
              "      <td>0.224744</td>\n",
              "      <td>0.000000</td>\n",
              "      <td>0.000000</td>\n",
              "      <td>0.114708</td>\n",
              "      <td>0.345003</td>\n",
              "      <td>0.000000</td>\n",
              "      <td>0.000000</td>\n",
              "      <td>0.000000</td>\n",
              "      <td>0.000000</td>\n",
              "      <td>classe 8</td>\n",
              "    </tr>\n",
              "    <tr>\n",
              "      <th>1</th>\n",
              "      <td>0.415043</td>\n",
              "      <td>0.113654</td>\n",
              "      <td>0.004350</td>\n",
              "      <td>0.107449</td>\n",
              "      <td>0.415043</td>\n",
              "      <td>0.0</td>\n",
              "      <td>0.000000</td>\n",
              "      <td>0.000000</td>\n",
              "      <td>0.084414</td>\n",
              "      <td>0.037140</td>\n",
              "      <td>...</td>\n",
              "      <td>0.166059</td>\n",
              "      <td>0.000000</td>\n",
              "      <td>0.000000</td>\n",
              "      <td>0.087678</td>\n",
              "      <td>0.296472</td>\n",
              "      <td>0.088445</td>\n",
              "      <td>0.106629</td>\n",
              "      <td>0.296472</td>\n",
              "      <td>0.296472</td>\n",
              "      <td>classe 8</td>\n",
              "    </tr>\n",
              "    <tr>\n",
              "      <th>2</th>\n",
              "      <td>0.436051</td>\n",
              "      <td>0.155389</td>\n",
              "      <td>0.001869</td>\n",
              "      <td>0.077546</td>\n",
              "      <td>0.436051</td>\n",
              "      <td>0.0</td>\n",
              "      <td>0.000488</td>\n",
              "      <td>0.069154</td>\n",
              "      <td>0.081273</td>\n",
              "      <td>0.026098</td>\n",
              "      <td>...</td>\n",
              "      <td>0.223356</td>\n",
              "      <td>0.061970</td>\n",
              "      <td>0.024733</td>\n",
              "      <td>0.295262</td>\n",
              "      <td>0.330698</td>\n",
              "      <td>0.064179</td>\n",
              "      <td>0.011052</td>\n",
              "      <td>0.055630</td>\n",
              "      <td>0.071249</td>\n",
              "      <td>classe 8</td>\n",
              "    </tr>\n",
              "    <tr>\n",
              "      <th>3</th>\n",
              "      <td>0.448442</td>\n",
              "      <td>0.148495</td>\n",
              "      <td>0.004591</td>\n",
              "      <td>0.080256</td>\n",
              "      <td>0.448442</td>\n",
              "      <td>0.0</td>\n",
              "      <td>0.000000</td>\n",
              "      <td>0.067702</td>\n",
              "      <td>0.068507</td>\n",
              "      <td>0.019990</td>\n",
              "      <td>...</td>\n",
              "      <td>0.210995</td>\n",
              "      <td>0.036882</td>\n",
              "      <td>0.041215</td>\n",
              "      <td>0.105543</td>\n",
              "      <td>0.334964</td>\n",
              "      <td>0.028698</td>\n",
              "      <td>0.174180</td>\n",
              "      <td>0.211882</td>\n",
              "      <td>0.072470</td>\n",
              "      <td>classe 8</td>\n",
              "    </tr>\n",
              "    <tr>\n",
              "      <th>4</th>\n",
              "      <td>0.438471</td>\n",
              "      <td>0.160729</td>\n",
              "      <td>0.000000</td>\n",
              "      <td>0.080993</td>\n",
              "      <td>0.438471</td>\n",
              "      <td>0.0</td>\n",
              "      <td>0.067009</td>\n",
              "      <td>0.000000</td>\n",
              "      <td>0.078056</td>\n",
              "      <td>0.001118</td>\n",
              "      <td>...</td>\n",
              "      <td>0.179242</td>\n",
              "      <td>0.006794</td>\n",
              "      <td>0.038865</td>\n",
              "      <td>0.150484</td>\n",
              "      <td>0.320465</td>\n",
              "      <td>0.033440</td>\n",
              "      <td>0.054427</td>\n",
              "      <td>0.076588</td>\n",
              "      <td>0.135820</td>\n",
              "      <td>classe 8</td>\n",
              "    </tr>\n",
              "    <tr>\n",
              "      <th>5</th>\n",
              "      <td>0.415043</td>\n",
              "      <td>0.113654</td>\n",
              "      <td>0.004350</td>\n",
              "      <td>0.107449</td>\n",
              "      <td>0.415043</td>\n",
              "      <td>0.0</td>\n",
              "      <td>0.000000</td>\n",
              "      <td>0.000000</td>\n",
              "      <td>0.084414</td>\n",
              "      <td>0.037140</td>\n",
              "      <td>...</td>\n",
              "      <td>0.166059</td>\n",
              "      <td>0.000000</td>\n",
              "      <td>0.000000</td>\n",
              "      <td>0.087678</td>\n",
              "      <td>0.296472</td>\n",
              "      <td>0.088445</td>\n",
              "      <td>0.106629</td>\n",
              "      <td>0.296472</td>\n",
              "      <td>0.296472</td>\n",
              "      <td>classe 8</td>\n",
              "    </tr>\n",
              "    <tr>\n",
              "      <th>6</th>\n",
              "      <td>0.480578</td>\n",
              "      <td>0.139024</td>\n",
              "      <td>0.001844</td>\n",
              "      <td>0.125666</td>\n",
              "      <td>0.480578</td>\n",
              "      <td>0.0</td>\n",
              "      <td>0.000000</td>\n",
              "      <td>0.000000</td>\n",
              "      <td>0.023302</td>\n",
              "      <td>0.000736</td>\n",
              "      <td>...</td>\n",
              "      <td>0.306776</td>\n",
              "      <td>0.037507</td>\n",
              "      <td>0.006594</td>\n",
              "      <td>0.144777</td>\n",
              "      <td>0.306776</td>\n",
              "      <td>0.000000</td>\n",
              "      <td>0.165245</td>\n",
              "      <td>0.306776</td>\n",
              "      <td>0.180292</td>\n",
              "      <td>classe 8</td>\n",
              "    </tr>\n",
              "    <tr>\n",
              "      <th>7</th>\n",
              "      <td>0.374819</td>\n",
              "      <td>0.079727</td>\n",
              "      <td>0.000000</td>\n",
              "      <td>0.077713</td>\n",
              "      <td>0.374819</td>\n",
              "      <td>0.0</td>\n",
              "      <td>0.000000</td>\n",
              "      <td>0.000000</td>\n",
              "      <td>0.000000</td>\n",
              "      <td>0.373040</td>\n",
              "      <td>...</td>\n",
              "      <td>0.241885</td>\n",
              "      <td>0.021221</td>\n",
              "      <td>0.049057</td>\n",
              "      <td>0.118562</td>\n",
              "      <td>0.317110</td>\n",
              "      <td>0.025589</td>\n",
              "      <td>0.174030</td>\n",
              "      <td>0.153656</td>\n",
              "      <td>0.079967</td>\n",
              "      <td>classe 8</td>\n",
              "    </tr>\n",
              "    <tr>\n",
              "      <th>8</th>\n",
              "      <td>0.447242</td>\n",
              "      <td>0.153603</td>\n",
              "      <td>0.000000</td>\n",
              "      <td>0.078367</td>\n",
              "      <td>0.447242</td>\n",
              "      <td>0.0</td>\n",
              "      <td>0.000000</td>\n",
              "      <td>0.063181</td>\n",
              "      <td>0.063433</td>\n",
              "      <td>0.001869</td>\n",
              "      <td>...</td>\n",
              "      <td>0.238034</td>\n",
              "      <td>0.038635</td>\n",
              "      <td>0.026875</td>\n",
              "      <td>0.157693</td>\n",
              "      <td>0.325047</td>\n",
              "      <td>0.054149</td>\n",
              "      <td>0.051403</td>\n",
              "      <td>0.037044</td>\n",
              "      <td>0.045980</td>\n",
              "      <td>classe 8</td>\n",
              "    </tr>\n",
              "    <tr>\n",
              "      <th>9</th>\n",
              "      <td>0.433291</td>\n",
              "      <td>0.306027</td>\n",
              "      <td>0.000000</td>\n",
              "      <td>0.084442</td>\n",
              "      <td>0.433291</td>\n",
              "      <td>0.0</td>\n",
              "      <td>0.060051</td>\n",
              "      <td>0.000000</td>\n",
              "      <td>0.206268</td>\n",
              "      <td>0.030825</td>\n",
              "      <td>...</td>\n",
              "      <td>0.186014</td>\n",
              "      <td>0.013763</td>\n",
              "      <td>0.032731</td>\n",
              "      <td>0.154388</td>\n",
              "      <td>0.304477</td>\n",
              "      <td>0.044695</td>\n",
              "      <td>0.058784</td>\n",
              "      <td>0.126524</td>\n",
              "      <td>0.111406</td>\n",
              "      <td>classe 8</td>\n",
              "    </tr>\n",
              "    <tr>\n",
              "      <th>10</th>\n",
              "      <td>0.449486</td>\n",
              "      <td>0.230422</td>\n",
              "      <td>0.000000</td>\n",
              "      <td>0.080482</td>\n",
              "      <td>0.449486</td>\n",
              "      <td>0.0</td>\n",
              "      <td>0.000000</td>\n",
              "      <td>0.062135</td>\n",
              "      <td>0.000000</td>\n",
              "      <td>0.004562</td>\n",
              "      <td>...</td>\n",
              "      <td>0.193850</td>\n",
              "      <td>0.012697</td>\n",
              "      <td>0.039020</td>\n",
              "      <td>0.157835</td>\n",
              "      <td>0.321609</td>\n",
              "      <td>0.074956</td>\n",
              "      <td>0.044389</td>\n",
              "      <td>0.109385</td>\n",
              "      <td>0.046008</td>\n",
              "      <td>classe 8</td>\n",
              "    </tr>\n",
              "  </tbody>\n",
              "</table>\n",
              "<p>11 rows × 3781 columns</p>\n",
              "</div>\n",
              "      <button class=\"colab-df-convert\" onclick=\"convertToInteractive('df-04fd9b41-5644-46a7-b6c4-788be514c0a1')\"\n",
              "              title=\"Convert this dataframe to an interactive table.\"\n",
              "              style=\"display:none;\">\n",
              "        \n",
              "  <svg xmlns=\"http://www.w3.org/2000/svg\" height=\"24px\"viewBox=\"0 0 24 24\"\n",
              "       width=\"24px\">\n",
              "    <path d=\"M0 0h24v24H0V0z\" fill=\"none\"/>\n",
              "    <path d=\"M18.56 5.44l.94 2.06.94-2.06 2.06-.94-2.06-.94-.94-2.06-.94 2.06-2.06.94zm-11 1L8.5 8.5l.94-2.06 2.06-.94-2.06-.94L8.5 2.5l-.94 2.06-2.06.94zm10 10l.94 2.06.94-2.06 2.06-.94-2.06-.94-.94-2.06-.94 2.06-2.06.94z\"/><path d=\"M17.41 7.96l-1.37-1.37c-.4-.4-.92-.59-1.43-.59-.52 0-1.04.2-1.43.59L10.3 9.45l-7.72 7.72c-.78.78-.78 2.05 0 2.83L4 21.41c.39.39.9.59 1.41.59.51 0 1.02-.2 1.41-.59l7.78-7.78 2.81-2.81c.8-.78.8-2.07 0-2.86zM5.41 20L4 18.59l7.72-7.72 1.47 1.35L5.41 20z\"/>\n",
              "  </svg>\n",
              "      </button>\n",
              "      \n",
              "  <style>\n",
              "    .colab-df-container {\n",
              "      display:flex;\n",
              "      flex-wrap:wrap;\n",
              "      gap: 12px;\n",
              "    }\n",
              "\n",
              "    .colab-df-convert {\n",
              "      background-color: #E8F0FE;\n",
              "      border: none;\n",
              "      border-radius: 50%;\n",
              "      cursor: pointer;\n",
              "      display: none;\n",
              "      fill: #1967D2;\n",
              "      height: 32px;\n",
              "      padding: 0 0 0 0;\n",
              "      width: 32px;\n",
              "    }\n",
              "\n",
              "    .colab-df-convert:hover {\n",
              "      background-color: #E2EBFA;\n",
              "      box-shadow: 0px 1px 2px rgba(60, 64, 67, 0.3), 0px 1px 3px 1px rgba(60, 64, 67, 0.15);\n",
              "      fill: #174EA6;\n",
              "    }\n",
              "\n",
              "    [theme=dark] .colab-df-convert {\n",
              "      background-color: #3B4455;\n",
              "      fill: #D2E3FC;\n",
              "    }\n",
              "\n",
              "    [theme=dark] .colab-df-convert:hover {\n",
              "      background-color: #434B5C;\n",
              "      box-shadow: 0px 1px 3px 1px rgba(0, 0, 0, 0.15);\n",
              "      filter: drop-shadow(0px 1px 2px rgba(0, 0, 0, 0.3));\n",
              "      fill: #FFFFFF;\n",
              "    }\n",
              "  </style>\n",
              "\n",
              "      <script>\n",
              "        const buttonEl =\n",
              "          document.querySelector('#df-04fd9b41-5644-46a7-b6c4-788be514c0a1 button.colab-df-convert');\n",
              "        buttonEl.style.display =\n",
              "          google.colab.kernel.accessAllowed ? 'block' : 'none';\n",
              "\n",
              "        async function convertToInteractive(key) {\n",
              "          const element = document.querySelector('#df-04fd9b41-5644-46a7-b6c4-788be514c0a1');\n",
              "          const dataTable =\n",
              "            await google.colab.kernel.invokeFunction('convertToInteractive',\n",
              "                                                     [key], {});\n",
              "          if (!dataTable) return;\n",
              "\n",
              "          const docLinkHtml = 'Like what you see? Visit the ' +\n",
              "            '<a target=\"_blank\" href=https://colab.research.google.com/notebooks/data_table.ipynb>data table notebook</a>'\n",
              "            + ' to learn more about interactive tables.';\n",
              "          element.innerHTML = '';\n",
              "          dataTable['output_type'] = 'display_data';\n",
              "          await google.colab.output.renderOutput(dataTable, element);\n",
              "          const docLink = document.createElement('div');\n",
              "          docLink.innerHTML = docLinkHtml;\n",
              "          element.appendChild(docLink);\n",
              "        }\n",
              "      </script>\n",
              "    </div>\n",
              "  </div>\n",
              "  "
            ]
          },
          "metadata": {},
          "execution_count": 10
        }
      ]
    },
    {
      "cell_type": "markdown",
      "source": [
        "# Commentaires:\n",
        "Le but de cette partie est de générer pour chaque image un vecteur caractéristique qui lui distingue des autres, les vecteurs caractéristiques des images de la meme classe sont proches tant que les vecteurs caracteristiques des images de classes différentes sont différents.(une variabilité interaclasse minimale et une variabilité extraclasse maximale.)\n",
        "Dans cette partie on a :\n",
        "* crée dabord un vecteur avec les noms des classes.\n",
        "* Pour chaque image dans un fichier (Classe) On a calculer le vecteur de gradients a l'aide de la fonction **hog()** \n",
        "* On ajouter les résultats de toutes les images dans un tableau (le résultat est un tableau dont les éléments sont les vecteurs caracteristiques).\n",
        "* On convertit le tableau en dataframe dont on ajoute la colonne \"Classes\" et on met sa valeur au nom de la classes pour tous les vecteurs (car ils appartient au meme classe).\n",
        "* On ajoute cette data frame a un tableau.\n",
        "* On répète ces étapes pour chaque fichier (Classe).\n",
        "* A la fin, on aura un tableau dont les éléments sont les dataframes pour chaque classe (chaque data frame contient les vecteurs caracteristiques de tous les images de cette classe )"
      ],
      "metadata": {
        "id": "cSq7lu3BZ3EC"
      }
    },
    {
      "cell_type": "code",
      "source": [
        "dataset = pd.concat(df, ignore_index=True)\n",
        "dataset\n"
      ],
      "metadata": {
        "colab": {
          "base_uri": "https://localhost:8080/",
          "height": 574
        },
        "id": "sTcAnCmqtKbF",
        "outputId": "d2f24606-d628-4d72-d00f-0912abe2c11a"
      },
      "execution_count": null,
      "outputs": [
        {
          "output_type": "execute_result",
          "data": {
            "text/plain": [
              "            0         1         2         3         4         5         6  \\\n",
              "0    0.425379  0.000000  0.125738  0.109828  0.425379  0.011971  0.037785   \n",
              "1    0.401569  0.172436  0.021836  0.123926  0.401569  0.000000  0.008755   \n",
              "2    0.412904  0.120733  0.039532  0.122995  0.412904  0.022730  0.016197   \n",
              "3    0.404495  0.137294  0.050953  0.157419  0.404495  0.015171  0.013868   \n",
              "4    0.411455  0.017346  0.114728  0.000000  0.411455  0.011885  0.000000   \n",
              "..        ...       ...       ...       ...       ...       ...       ...   \n",
              "160  0.484811  0.009089  0.136763  0.116806  0.484811  0.000000  0.000000   \n",
              "161  0.404288  0.007686  0.105676  0.094103  0.404288  0.001567  0.000000   \n",
              "162  0.351112  0.072943  0.000000  0.073712  0.351112  0.000000  0.000000   \n",
              "163  0.366185  0.095441  0.006045  0.100024  0.366185  0.000000  0.000958   \n",
              "164  0.386689  0.006933  0.097118  0.082333  0.386689  0.001258  0.000643   \n",
              "\n",
              "            7         8         9  ...      3771      3772          3773  \\\n",
              "0    0.020707  0.015446  0.271117  ...  0.377834  0.377834  2.163538e-08   \n",
              "1    0.023602  0.008910  0.205997  ...  0.232920  0.016057  0.000000e+00   \n",
              "2    0.019199  0.023749  0.200829  ...  0.231322  0.002647  6.683755e-03   \n",
              "3    0.009206  0.031224  0.129663  ...  0.198197  0.007896  0.000000e+00   \n",
              "4    0.019344  0.027485  0.336265  ...  0.468471  0.005951  4.117020e-03   \n",
              "..        ...       ...       ...  ...       ...       ...           ...   \n",
              "160  0.000000  0.000385  0.000702  ...  0.222285  0.000000  2.407026e-03   \n",
              "161  0.001550  0.020203  0.014004  ...  0.121682  0.006869  3.164603e-03   \n",
              "162  0.000000  0.351112  0.013665  ...  0.131848  0.044716  0.000000e+00   \n",
              "163  0.006931  0.216041  0.002926  ...  0.177595  0.060706  3.034793e-02   \n",
              "164  0.000000  0.093556  0.019008  ...  0.200905  0.036927  2.044927e-02   \n",
              "\n",
              "         3774      3775      3776      3777      3778      3779    classes  \n",
              "0    0.097714  0.377834  0.000000  0.000000  0.000000  0.000000   classe 1  \n",
              "1    0.140555  0.383487  0.000501  0.013753  0.017683  0.115989   classe 1  \n",
              "2    0.132907  0.388887  0.023017  0.014811  0.046151  0.074911   classe 1  \n",
              "3    0.140346  0.398307  0.001925  0.000000  0.007430  0.104113   classe 1  \n",
              "4    0.227591  0.468471  0.013239  0.037332  0.030496  0.020796   classe 1  \n",
              "..        ...       ...       ...       ...       ...       ...        ...  \n",
              "160  0.118857  0.310335  0.123432  0.134652  0.272819  0.310335  classe 15  \n",
              "161  0.112263  0.308361  0.133250  0.047887  0.308361  0.308361  classe 15  \n",
              "162  0.099651  0.328407  0.135468  0.093210  0.195713  0.328407  classe 15  \n",
              "163  0.086011  0.344645  0.071260  0.121601  0.170169  0.218170  classe 15  \n",
              "164  0.105225  0.307692  0.101845  0.017269  0.307692  0.307692  classe 15  \n",
              "\n",
              "[165 rows x 3781 columns]"
            ],
            "text/html": [
              "\n",
              "  <div id=\"df-888cd6cc-7079-47e8-bfcd-7a2d1f458ffc\">\n",
              "    <div class=\"colab-df-container\">\n",
              "      <div>\n",
              "<style scoped>\n",
              "    .dataframe tbody tr th:only-of-type {\n",
              "        vertical-align: middle;\n",
              "    }\n",
              "\n",
              "    .dataframe tbody tr th {\n",
              "        vertical-align: top;\n",
              "    }\n",
              "\n",
              "    .dataframe thead th {\n",
              "        text-align: right;\n",
              "    }\n",
              "</style>\n",
              "<table border=\"1\" class=\"dataframe\">\n",
              "  <thead>\n",
              "    <tr style=\"text-align: right;\">\n",
              "      <th></th>\n",
              "      <th>0</th>\n",
              "      <th>1</th>\n",
              "      <th>2</th>\n",
              "      <th>3</th>\n",
              "      <th>4</th>\n",
              "      <th>5</th>\n",
              "      <th>6</th>\n",
              "      <th>7</th>\n",
              "      <th>8</th>\n",
              "      <th>9</th>\n",
              "      <th>...</th>\n",
              "      <th>3771</th>\n",
              "      <th>3772</th>\n",
              "      <th>3773</th>\n",
              "      <th>3774</th>\n",
              "      <th>3775</th>\n",
              "      <th>3776</th>\n",
              "      <th>3777</th>\n",
              "      <th>3778</th>\n",
              "      <th>3779</th>\n",
              "      <th>classes</th>\n",
              "    </tr>\n",
              "  </thead>\n",
              "  <tbody>\n",
              "    <tr>\n",
              "      <th>0</th>\n",
              "      <td>0.425379</td>\n",
              "      <td>0.000000</td>\n",
              "      <td>0.125738</td>\n",
              "      <td>0.109828</td>\n",
              "      <td>0.425379</td>\n",
              "      <td>0.011971</td>\n",
              "      <td>0.037785</td>\n",
              "      <td>0.020707</td>\n",
              "      <td>0.015446</td>\n",
              "      <td>0.271117</td>\n",
              "      <td>...</td>\n",
              "      <td>0.377834</td>\n",
              "      <td>0.377834</td>\n",
              "      <td>2.163538e-08</td>\n",
              "      <td>0.097714</td>\n",
              "      <td>0.377834</td>\n",
              "      <td>0.000000</td>\n",
              "      <td>0.000000</td>\n",
              "      <td>0.000000</td>\n",
              "      <td>0.000000</td>\n",
              "      <td>classe 1</td>\n",
              "    </tr>\n",
              "    <tr>\n",
              "      <th>1</th>\n",
              "      <td>0.401569</td>\n",
              "      <td>0.172436</td>\n",
              "      <td>0.021836</td>\n",
              "      <td>0.123926</td>\n",
              "      <td>0.401569</td>\n",
              "      <td>0.000000</td>\n",
              "      <td>0.008755</td>\n",
              "      <td>0.023602</td>\n",
              "      <td>0.008910</td>\n",
              "      <td>0.205997</td>\n",
              "      <td>...</td>\n",
              "      <td>0.232920</td>\n",
              "      <td>0.016057</td>\n",
              "      <td>0.000000e+00</td>\n",
              "      <td>0.140555</td>\n",
              "      <td>0.383487</td>\n",
              "      <td>0.000501</td>\n",
              "      <td>0.013753</td>\n",
              "      <td>0.017683</td>\n",
              "      <td>0.115989</td>\n",
              "      <td>classe 1</td>\n",
              "    </tr>\n",
              "    <tr>\n",
              "      <th>2</th>\n",
              "      <td>0.412904</td>\n",
              "      <td>0.120733</td>\n",
              "      <td>0.039532</td>\n",
              "      <td>0.122995</td>\n",
              "      <td>0.412904</td>\n",
              "      <td>0.022730</td>\n",
              "      <td>0.016197</td>\n",
              "      <td>0.019199</td>\n",
              "      <td>0.023749</td>\n",
              "      <td>0.200829</td>\n",
              "      <td>...</td>\n",
              "      <td>0.231322</td>\n",
              "      <td>0.002647</td>\n",
              "      <td>6.683755e-03</td>\n",
              "      <td>0.132907</td>\n",
              "      <td>0.388887</td>\n",
              "      <td>0.023017</td>\n",
              "      <td>0.014811</td>\n",
              "      <td>0.046151</td>\n",
              "      <td>0.074911</td>\n",
              "      <td>classe 1</td>\n",
              "    </tr>\n",
              "    <tr>\n",
              "      <th>3</th>\n",
              "      <td>0.404495</td>\n",
              "      <td>0.137294</td>\n",
              "      <td>0.050953</td>\n",
              "      <td>0.157419</td>\n",
              "      <td>0.404495</td>\n",
              "      <td>0.015171</td>\n",
              "      <td>0.013868</td>\n",
              "      <td>0.009206</td>\n",
              "      <td>0.031224</td>\n",
              "      <td>0.129663</td>\n",
              "      <td>...</td>\n",
              "      <td>0.198197</td>\n",
              "      <td>0.007896</td>\n",
              "      <td>0.000000e+00</td>\n",
              "      <td>0.140346</td>\n",
              "      <td>0.398307</td>\n",
              "      <td>0.001925</td>\n",
              "      <td>0.000000</td>\n",
              "      <td>0.007430</td>\n",
              "      <td>0.104113</td>\n",
              "      <td>classe 1</td>\n",
              "    </tr>\n",
              "    <tr>\n",
              "      <th>4</th>\n",
              "      <td>0.411455</td>\n",
              "      <td>0.017346</td>\n",
              "      <td>0.114728</td>\n",
              "      <td>0.000000</td>\n",
              "      <td>0.411455</td>\n",
              "      <td>0.011885</td>\n",
              "      <td>0.000000</td>\n",
              "      <td>0.019344</td>\n",
              "      <td>0.027485</td>\n",
              "      <td>0.336265</td>\n",
              "      <td>...</td>\n",
              "      <td>0.468471</td>\n",
              "      <td>0.005951</td>\n",
              "      <td>4.117020e-03</td>\n",
              "      <td>0.227591</td>\n",
              "      <td>0.468471</td>\n",
              "      <td>0.013239</td>\n",
              "      <td>0.037332</td>\n",
              "      <td>0.030496</td>\n",
              "      <td>0.020796</td>\n",
              "      <td>classe 1</td>\n",
              "    </tr>\n",
              "    <tr>\n",
              "      <th>...</th>\n",
              "      <td>...</td>\n",
              "      <td>...</td>\n",
              "      <td>...</td>\n",
              "      <td>...</td>\n",
              "      <td>...</td>\n",
              "      <td>...</td>\n",
              "      <td>...</td>\n",
              "      <td>...</td>\n",
              "      <td>...</td>\n",
              "      <td>...</td>\n",
              "      <td>...</td>\n",
              "      <td>...</td>\n",
              "      <td>...</td>\n",
              "      <td>...</td>\n",
              "      <td>...</td>\n",
              "      <td>...</td>\n",
              "      <td>...</td>\n",
              "      <td>...</td>\n",
              "      <td>...</td>\n",
              "      <td>...</td>\n",
              "      <td>...</td>\n",
              "    </tr>\n",
              "    <tr>\n",
              "      <th>160</th>\n",
              "      <td>0.484811</td>\n",
              "      <td>0.009089</td>\n",
              "      <td>0.136763</td>\n",
              "      <td>0.116806</td>\n",
              "      <td>0.484811</td>\n",
              "      <td>0.000000</td>\n",
              "      <td>0.000000</td>\n",
              "      <td>0.000000</td>\n",
              "      <td>0.000385</td>\n",
              "      <td>0.000702</td>\n",
              "      <td>...</td>\n",
              "      <td>0.222285</td>\n",
              "      <td>0.000000</td>\n",
              "      <td>2.407026e-03</td>\n",
              "      <td>0.118857</td>\n",
              "      <td>0.310335</td>\n",
              "      <td>0.123432</td>\n",
              "      <td>0.134652</td>\n",
              "      <td>0.272819</td>\n",
              "      <td>0.310335</td>\n",
              "      <td>classe 15</td>\n",
              "    </tr>\n",
              "    <tr>\n",
              "      <th>161</th>\n",
              "      <td>0.404288</td>\n",
              "      <td>0.007686</td>\n",
              "      <td>0.105676</td>\n",
              "      <td>0.094103</td>\n",
              "      <td>0.404288</td>\n",
              "      <td>0.001567</td>\n",
              "      <td>0.000000</td>\n",
              "      <td>0.001550</td>\n",
              "      <td>0.020203</td>\n",
              "      <td>0.014004</td>\n",
              "      <td>...</td>\n",
              "      <td>0.121682</td>\n",
              "      <td>0.006869</td>\n",
              "      <td>3.164603e-03</td>\n",
              "      <td>0.112263</td>\n",
              "      <td>0.308361</td>\n",
              "      <td>0.133250</td>\n",
              "      <td>0.047887</td>\n",
              "      <td>0.308361</td>\n",
              "      <td>0.308361</td>\n",
              "      <td>classe 15</td>\n",
              "    </tr>\n",
              "    <tr>\n",
              "      <th>162</th>\n",
              "      <td>0.351112</td>\n",
              "      <td>0.072943</td>\n",
              "      <td>0.000000</td>\n",
              "      <td>0.073712</td>\n",
              "      <td>0.351112</td>\n",
              "      <td>0.000000</td>\n",
              "      <td>0.000000</td>\n",
              "      <td>0.000000</td>\n",
              "      <td>0.351112</td>\n",
              "      <td>0.013665</td>\n",
              "      <td>...</td>\n",
              "      <td>0.131848</td>\n",
              "      <td>0.044716</td>\n",
              "      <td>0.000000e+00</td>\n",
              "      <td>0.099651</td>\n",
              "      <td>0.328407</td>\n",
              "      <td>0.135468</td>\n",
              "      <td>0.093210</td>\n",
              "      <td>0.195713</td>\n",
              "      <td>0.328407</td>\n",
              "      <td>classe 15</td>\n",
              "    </tr>\n",
              "    <tr>\n",
              "      <th>163</th>\n",
              "      <td>0.366185</td>\n",
              "      <td>0.095441</td>\n",
              "      <td>0.006045</td>\n",
              "      <td>0.100024</td>\n",
              "      <td>0.366185</td>\n",
              "      <td>0.000000</td>\n",
              "      <td>0.000958</td>\n",
              "      <td>0.006931</td>\n",
              "      <td>0.216041</td>\n",
              "      <td>0.002926</td>\n",
              "      <td>...</td>\n",
              "      <td>0.177595</td>\n",
              "      <td>0.060706</td>\n",
              "      <td>3.034793e-02</td>\n",
              "      <td>0.086011</td>\n",
              "      <td>0.344645</td>\n",
              "      <td>0.071260</td>\n",
              "      <td>0.121601</td>\n",
              "      <td>0.170169</td>\n",
              "      <td>0.218170</td>\n",
              "      <td>classe 15</td>\n",
              "    </tr>\n",
              "    <tr>\n",
              "      <th>164</th>\n",
              "      <td>0.386689</td>\n",
              "      <td>0.006933</td>\n",
              "      <td>0.097118</td>\n",
              "      <td>0.082333</td>\n",
              "      <td>0.386689</td>\n",
              "      <td>0.001258</td>\n",
              "      <td>0.000643</td>\n",
              "      <td>0.000000</td>\n",
              "      <td>0.093556</td>\n",
              "      <td>0.019008</td>\n",
              "      <td>...</td>\n",
              "      <td>0.200905</td>\n",
              "      <td>0.036927</td>\n",
              "      <td>2.044927e-02</td>\n",
              "      <td>0.105225</td>\n",
              "      <td>0.307692</td>\n",
              "      <td>0.101845</td>\n",
              "      <td>0.017269</td>\n",
              "      <td>0.307692</td>\n",
              "      <td>0.307692</td>\n",
              "      <td>classe 15</td>\n",
              "    </tr>\n",
              "  </tbody>\n",
              "</table>\n",
              "<p>165 rows × 3781 columns</p>\n",
              "</div>\n",
              "      <button class=\"colab-df-convert\" onclick=\"convertToInteractive('df-888cd6cc-7079-47e8-bfcd-7a2d1f458ffc')\"\n",
              "              title=\"Convert this dataframe to an interactive table.\"\n",
              "              style=\"display:none;\">\n",
              "        \n",
              "  <svg xmlns=\"http://www.w3.org/2000/svg\" height=\"24px\"viewBox=\"0 0 24 24\"\n",
              "       width=\"24px\">\n",
              "    <path d=\"M0 0h24v24H0V0z\" fill=\"none\"/>\n",
              "    <path d=\"M18.56 5.44l.94 2.06.94-2.06 2.06-.94-2.06-.94-.94-2.06-.94 2.06-2.06.94zm-11 1L8.5 8.5l.94-2.06 2.06-.94-2.06-.94L8.5 2.5l-.94 2.06-2.06.94zm10 10l.94 2.06.94-2.06 2.06-.94-2.06-.94-.94-2.06-.94 2.06-2.06.94z\"/><path d=\"M17.41 7.96l-1.37-1.37c-.4-.4-.92-.59-1.43-.59-.52 0-1.04.2-1.43.59L10.3 9.45l-7.72 7.72c-.78.78-.78 2.05 0 2.83L4 21.41c.39.39.9.59 1.41.59.51 0 1.02-.2 1.41-.59l7.78-7.78 2.81-2.81c.8-.78.8-2.07 0-2.86zM5.41 20L4 18.59l7.72-7.72 1.47 1.35L5.41 20z\"/>\n",
              "  </svg>\n",
              "      </button>\n",
              "      \n",
              "  <style>\n",
              "    .colab-df-container {\n",
              "      display:flex;\n",
              "      flex-wrap:wrap;\n",
              "      gap: 12px;\n",
              "    }\n",
              "\n",
              "    .colab-df-convert {\n",
              "      background-color: #E8F0FE;\n",
              "      border: none;\n",
              "      border-radius: 50%;\n",
              "      cursor: pointer;\n",
              "      display: none;\n",
              "      fill: #1967D2;\n",
              "      height: 32px;\n",
              "      padding: 0 0 0 0;\n",
              "      width: 32px;\n",
              "    }\n",
              "\n",
              "    .colab-df-convert:hover {\n",
              "      background-color: #E2EBFA;\n",
              "      box-shadow: 0px 1px 2px rgba(60, 64, 67, 0.3), 0px 1px 3px 1px rgba(60, 64, 67, 0.15);\n",
              "      fill: #174EA6;\n",
              "    }\n",
              "\n",
              "    [theme=dark] .colab-df-convert {\n",
              "      background-color: #3B4455;\n",
              "      fill: #D2E3FC;\n",
              "    }\n",
              "\n",
              "    [theme=dark] .colab-df-convert:hover {\n",
              "      background-color: #434B5C;\n",
              "      box-shadow: 0px 1px 3px 1px rgba(0, 0, 0, 0.15);\n",
              "      filter: drop-shadow(0px 1px 2px rgba(0, 0, 0, 0.3));\n",
              "      fill: #FFFFFF;\n",
              "    }\n",
              "  </style>\n",
              "\n",
              "      <script>\n",
              "        const buttonEl =\n",
              "          document.querySelector('#df-888cd6cc-7079-47e8-bfcd-7a2d1f458ffc button.colab-df-convert');\n",
              "        buttonEl.style.display =\n",
              "          google.colab.kernel.accessAllowed ? 'block' : 'none';\n",
              "\n",
              "        async function convertToInteractive(key) {\n",
              "          const element = document.querySelector('#df-888cd6cc-7079-47e8-bfcd-7a2d1f458ffc');\n",
              "          const dataTable =\n",
              "            await google.colab.kernel.invokeFunction('convertToInteractive',\n",
              "                                                     [key], {});\n",
              "          if (!dataTable) return;\n",
              "\n",
              "          const docLinkHtml = 'Like what you see? Visit the ' +\n",
              "            '<a target=\"_blank\" href=https://colab.research.google.com/notebooks/data_table.ipynb>data table notebook</a>'\n",
              "            + ' to learn more about interactive tables.';\n",
              "          element.innerHTML = '';\n",
              "          dataTable['output_type'] = 'display_data';\n",
              "          await google.colab.output.renderOutput(dataTable, element);\n",
              "          const docLink = document.createElement('div');\n",
              "          docLink.innerHTML = docLinkHtml;\n",
              "          element.appendChild(docLink);\n",
              "        }\n",
              "      </script>\n",
              "    </div>\n",
              "  </div>\n",
              "  "
            ]
          },
          "metadata": {},
          "execution_count": 11
        }
      ]
    },
    {
      "cell_type": "markdown",
      "source": [
        "# Commentaires:\n",
        "Dans cette etape, on va concatener toutes les dataframes obtenues dans une seule dataframe et comme  ça on aura notre dataset."
      ],
      "metadata": {
        "id": "QRih5-N0cLOn"
      }
    },
    {
      "cell_type": "code",
      "source": [
        "plt.figure(figsize=(15,15))\n",
        "plt.hist(dataset['classes'],bins=15)"
      ],
      "metadata": {
        "id": "BWkRBf362Gv7",
        "colab": {
          "base_uri": "https://localhost:8080/",
          "height": 972
        },
        "outputId": "56f14a07-8ae9-49dc-d8a0-2a57e209059f"
      },
      "execution_count": null,
      "outputs": [
        {
          "output_type": "execute_result",
          "data": {
            "text/plain": [
              "(array([11., 11., 11., 11., 11., 11., 11., 11., 11., 11., 11., 11., 11.,\n",
              "        11., 11.]),\n",
              " array([ 0.        ,  0.93333333,  1.86666667,  2.8       ,  3.73333333,\n",
              "         4.66666667,  5.6       ,  6.53333333,  7.46666667,  8.4       ,\n",
              "         9.33333333, 10.26666667, 11.2       , 12.13333333, 13.06666667,\n",
              "        14.        ]),\n",
              " <a list of 15 Patch objects>)"
            ]
          },
          "metadata": {},
          "execution_count": 12
        },
        {
          "output_type": "display_data",
          "data": {
            "text/plain": [
              "<Figure size 1080x1080 with 1 Axes>"
            ],
            "image/png": "[encoded data removed]"
          },
          "metadata": {
            "needs_background": "light"
          }
        }
      ]
    },
    {
      "cell_type": "markdown",
      "source": [
        "==> De cet histogramme, on voit bien que chaque classe contient 11 bien éléments."
      ],
      "metadata": {
        "id": "OFNlGdnAYIKi"
      }
    },
    {
      "cell_type": "code",
      "source": [
        "i=0\n",
        "X_train=pd.DataFrame()\n",
        "Y_train=pd.DataFrame()\n",
        "X_test=pd.DataFrame()\n",
        "Y_test=pd.DataFrame()\n",
        "for classe1 in vect_classes:\n",
        "  datafram=pd.DataFrame()\n",
        "  for classes in dataset['classes']:\n",
        "    if classe1==classes:\n",
        "      datafram=datafram.append(dataset.iloc[[i]])\n",
        "      i=i+1\n",
        "  x=datafram.drop(['classes'],axis=1)\n",
        "  y=datafram['classes']\n",
        "  x_train, x_test, y_train, y_test = train_test_split(x, y, test_size=5, random_state=42)\n",
        "  \n",
        "  X_train=pd.concat([X_train,x_train])\n",
        "  Y_train=pd.concat([Y_train,y_train])\n",
        "  X_test= pd.concat([X_test,x_test])\n",
        "  Y_test= pd.concat([Y_test,y_test])\n",
        "\n",
        "\n",
        "   \n",
        "plt.figure(figsize=(15,15))\n",
        "plt.hist(Y_train[0],bins=15)\n",
        "  \n",
        "  \n",
        "\n"
      ],
      "metadata": {
        "colab": {
          "base_uri": "https://localhost:8080/",
          "height": 962
        },
        "id": "0ffopehrrad0",
        "outputId": "31eb0dae-0712-4e95-9573-ca527078c99f"
      },
      "execution_count": null,
      "outputs": [
        {
          "output_type": "execute_result",
          "data": {
            "text/plain": [
              "(array([6., 6., 6., 6., 6., 6., 6., 6., 6., 6., 6., 6., 6., 6., 6.]),\n",
              " array([ 0.        ,  0.93333333,  1.86666667,  2.8       ,  3.73333333,\n",
              "         4.66666667,  5.6       ,  6.53333333,  7.46666667,  8.4       ,\n",
              "         9.33333333, 10.26666667, 11.2       , 12.13333333, 13.06666667,\n",
              "        14.        ]),\n",
              " <a list of 15 Patch objects>)"
            ]
          },
          "metadata": {},
          "execution_count": 40
        },
        {
          "output_type": "display_data",
          "data": {
            "text/plain": [
              "<Figure size 1080x1080 with 1 Axes>"
            ],
            "image/png": "[encoded data removed]"
          },
          "metadata": {
            "needs_background": "light"
          }
        }
      ]
    },
    {
      "cell_type": "markdown",
      "source": [
        "# Commentaire:\n",
        "Ce cette étape on a voulu séparer chaque classe en 6 vecteurs pour l'apprentissage et les 5 restants pour le test, pour cela on q appliqué la fonction **train_test_split()** pour séparer les données de chaque classe puis on concatine ces données pour avoir l'ensemble finale de nos donnée de test et d'apprentissage.\n"
      ],
      "metadata": {
        "id": "B4nic7u6cd_k"
      }
    },
    {
      "cell_type": "markdown",
      "source": [],
      "metadata": {
        "id": "vX9rbh7kbR3i"
      }
    },
    {
      "cell_type": "markdown",
      "source": [
        "==>D'aprés l'histogramme, on voit bien que chaque classe du training set contien 6 éléments équitablement."
      ],
      "metadata": {
        "id": "s2ZLW3bHZz9E"
      }
    },
    {
      "cell_type": "markdown",
      "source": [
        "# 3. Classification:"
      ],
      "metadata": {
        "id": "qUUsP3xFTRUQ"
      }
    },
    {
      "cell_type": "markdown",
      "source": [
        "# **KNN**"
      ],
      "metadata": {
        "id": "U1DXvop_8Xyo"
      }
    },
    {
      "cell_type": "markdown",
      "source": [
        "## 1.Apprentissage et prediction"
      ],
      "metadata": {
        "id": "EVsTqdBNfYby"
      }
    },
    {
      "cell_type": "code",
      "source": [
        "n=1\n",
        "k=1\n",
        "train_test = []\n",
        "\n",
        "while n<4  :\n",
        "    k=1\n",
        "    while k <10:\n",
        "        #Apprentissage\n",
        "        knn_clf = KNeighborsClassifier(n_neighbors = k, p = n)\n",
        "        knn_clf.fit(X_train,Y_train)\n",
        "        #peredictions\n",
        "        y_predict = knn_clf.predict(X_test)\n",
        "        train_test.append(accuracy_score(Y_test, y_predict))\n",
        "        k=k+2\n",
        "    n=n+1\n",
        "print('\\n accuracy_score : ' )\n",
        "print(train_test)\n",
        "\n",
        "#plot accuracy_score par rapport a la valeur de k\n",
        "plt.figure(figsize=(6,6))\n",
        "plt.plot([1,3,5,7,9],[train_test[0],train_test[1],train_test[2],train_test[3],train_test[4]],'g', label='Manhattann distance n=1')\n",
        "plt.plot([1,3,5,7,9],[train_test[5],train_test[6],train_test[7],train_test[8],train_test[9]],'b', label='Euclidienne Distance n=2')\n",
        "plt.plot([1,3,5,7,9],[train_test[10],train_test[11] ,train_test[12],train_test[13],train_test[14]],'r', label='Canberra Distance n=3')\n",
        "plt.title(\"The affection of k values on the accuracy_score \")\n",
        "plt.legend(loc=\"upper right\")\n",
        "plt.ylabel(\"accuracy_score \")\n",
        "plt.xlabel(\"K values\")\n",
        "plt.tight_layout()\n",
        "plt.show()\n",
        "\n",
        "\n"
      ],
      "metadata": {
        "id": "QWNJqlM2E9gQ",
        "colab": {
          "base_uri": "https://localhost:8080/",
          "height": 1000
        },
        "outputId": "c01c1b98-9963-4433-859d-18da957c11c0"
      },
      "execution_count": null,
      "outputs": [
        {
          "output_type": "stream",
          "name": "stderr",
          "text": [
            "/usr/local/lib/python3.8/dist-packages/sklearn/neighbors/_classification.py:198: DataConversionWarning: A column-vector y was passed when a 1d array was expected. Please change the shape of y to (n_samples,), for example using ravel().\n",
            "  return self._fit(X, y)\n",
            "/usr/local/lib/python3.8/dist-packages/sklearn/neighbors/_classification.py:198: DataConversionWarning: A column-vector y was passed when a 1d array was expected. Please change the shape of y to (n_samples,), for example using ravel().\n",
            "  return self._fit(X, y)\n",
            "/usr/local/lib/python3.8/dist-packages/sklearn/neighbors/_classification.py:198: DataConversionWarning: A column-vector y was passed when a 1d array was expected. Please change the shape of y to (n_samples,), for example using ravel().\n",
            "  return self._fit(X, y)\n",
            "/usr/local/lib/python3.8/dist-packages/sklearn/neighbors/_classification.py:198: DataConversionWarning: A column-vector y was passed when a 1d array was expected. Please change the shape of y to (n_samples,), for example using ravel().\n",
            "  return self._fit(X, y)\n",
            "/usr/local/lib/python3.8/dist-packages/sklearn/neighbors/_classification.py:198: DataConversionWarning: A column-vector y was passed when a 1d array was expected. Please change the shape of y to (n_samples,), for example using ravel().\n",
            "  return self._fit(X, y)\n",
            "/usr/local/lib/python3.8/dist-packages/sklearn/neighbors/_classification.py:198: DataConversionWarning: A column-vector y was passed when a 1d array was expected. Please change the shape of y to (n_samples,), for example using ravel().\n",
            "  return self._fit(X, y)\n",
            "/usr/local/lib/python3.8/dist-packages/sklearn/neighbors/_classification.py:198: DataConversionWarning: A column-vector y was passed when a 1d array was expected. Please change the shape of y to (n_samples,), for example using ravel().\n",
            "  return self._fit(X, y)\n",
            "/usr/local/lib/python3.8/dist-packages/sklearn/neighbors/_classification.py:198: DataConversionWarning: A column-vector y was passed when a 1d array was expected. Please change the shape of y to (n_samples,), for example using ravel().\n",
            "  return self._fit(X, y)\n",
            "/usr/local/lib/python3.8/dist-packages/sklearn/neighbors/_classification.py:198: DataConversionWarning: A column-vector y was passed when a 1d array was expected. Please change the shape of y to (n_samples,), for example using ravel().\n",
            "  return self._fit(X, y)\n",
            "/usr/local/lib/python3.8/dist-packages/sklearn/neighbors/_classification.py:198: DataConversionWarning: A column-vector y was passed when a 1d array was expected. Please change the shape of y to (n_samples,), for example using ravel().\n",
            "  return self._fit(X, y)\n",
            "/usr/local/lib/python3.8/dist-packages/sklearn/neighbors/_classification.py:198: DataConversionWarning: A column-vector y was passed when a 1d array was expected. Please change the shape of y to (n_samples,), for example using ravel().\n",
            "  return self._fit(X, y)\n",
            "/usr/local/lib/python3.8/dist-packages/sklearn/neighbors/_classification.py:198: DataConversionWarning: A column-vector y was passed when a 1d array was expected. Please change the shape of y to (n_samples,), for example using ravel().\n",
            "  return self._fit(X, y)\n",
            "/usr/local/lib/python3.8/dist-packages/sklearn/neighbors/_classification.py:198: DataConversionWarning: A column-vector y was passed when a 1d array was expected. Please change the shape of y to (n_samples,), for example using ravel().\n",
            "  return self._fit(X, y)\n",
            "/usr/local/lib/python3.8/dist-packages/sklearn/neighbors/_classification.py:198: DataConversionWarning: A column-vector y was passed when a 1d array was expected. Please change the shape of y to (n_samples,), for example using ravel().\n",
            "  return self._fit(X, y)\n",
            "/usr/local/lib/python3.8/dist-packages/sklearn/neighbors/_classification.py:198: DataConversionWarning: A column-vector y was passed when a 1d array was expected. Please change the shape of y to (n_samples,), for example using ravel().\n",
            "  return self._fit(X, y)\n"
          ]
        },
        {
          "output_type": "stream",
          "name": "stdout",
          "text": [
            "\n",
            " accuracy_score : \n",
            "[0.9733333333333334, 0.9466666666666667, 0.9733333333333334, 0.9466666666666667, 0.92, 0.9733333333333334, 0.9733333333333334, 0.9733333333333334, 0.9333333333333333, 0.9066666666666666, 0.9733333333333334, 0.9733333333333334, 0.9733333333333334, 0.9333333333333333, 0.9066666666666666]\n"
          ]
        },
        {
          "output_type": "display_data",
          "data": {
            "text/plain": [
              "<Figure size 432x432 with 1 Axes>"
            ],
            "image/png": "[encoded data removed]"
          },
          "metadata": {
            "needs_background": "light"
          }
        }
      ]
    },
    {
      "cell_type": "markdown",
      "source": [
        "\n",
        "\n",
        "\n",
        "> ### Commentaires:\n",
        "\n",
        "aprés avoir étudier les scores du modele par rapport au valeurs de k pour chaqu'une des 3 distances on remarque  :\n",
        "- les courbes des distances Euclidienne et\n",
        "Canberra sont supperposées car leurs valeurs d'accuracy sont identiques \n",
        "- on remarque que la valeur maximal est atteint quand k=1 (accuracy=0,98) et elle reste stable jusqu'a la valeur k=5 pour les distance Euclidienne et Canberra alors que pour la distance Manhattan elle descend en pic a la valeur k=3 puis elle remonte à k=5 (un minimat local)\n",
        "- aprés la valeur k=5 les accuracy diminuent grandement pour les 3 distances ce qui est provoqué par un overfitting \n",
        "\n",
        "ainsi le meilleur résultat obtenu est atteint lorsque k=[1,5] pour les distances Euclidienne et\n",
        "Canberr ou l'accuracy=0,98 ce qui jugé trés bon.\n",
        "\n",
        "\n"
      ],
      "metadata": {
        "id": "oojqO_wfQjvG"
      }
    },
    {
      "cell_type": "markdown",
      "source": [
        "## 2.Matrice de confission"
      ],
      "metadata": {
        "id": "6Q8zIqzxfkmx"
      }
    },
    {
      "cell_type": "code",
      "source": [
        "knn_clf = KNeighborsClassifier(n_neighbors = 5, p = 2)\n",
        "knn_clf.fit(X_train,Y_train)\n",
        "\n",
        "y_predict = knn_clf.predict(X_test)\n",
        "print('Accuracy: {:.2f}'.format(accuracy_score(Y_test, y_predict)))\n",
        "\n",
        "plt.figure(figsize=(17,17))\n",
        "fig = plot_confusion_matrix(knn_clf, X_test, Y_test, display_labels=knn_clf.classes_)\n",
        "fig.figure_.suptitle(\"Confusion Matrix for this Dataset\")\n"
      ],
      "metadata": {
        "colab": {
          "base_uri": "https://localhost:8080/",
          "height": 449
        },
        "id": "J-3fIm6CPUM3",
        "outputId": "2b482c3f-e3da-4ba8-ecb6-992a9589a34e"
      },
      "execution_count": null,
      "outputs": [
        {
          "output_type": "stream",
          "name": "stderr",
          "text": [
            "/usr/local/lib/python3.8/dist-packages/sklearn/neighbors/_classification.py:198: DataConversionWarning: A column-vector y was passed when a 1d array was expected. Please change the shape of y to (n_samples,), for example using ravel().\n",
            "  return self._fit(X, y)\n",
            "/usr/local/lib/python3.8/dist-packages/sklearn/utils/deprecation.py:87: FutureWarning: Function plot_confusion_matrix is deprecated; Function `plot_confusion_matrix` is deprecated in 1.0 and will be removed in 1.2. Use one of the class methods: ConfusionMatrixDisplay.from_predictions or ConfusionMatrixDisplay.from_estimator.\n",
            "  warnings.warn(msg, category=FutureWarning)\n"
          ]
        },
        {
          "output_type": "stream",
          "name": "stdout",
          "text": [
            "Accuracy: 0.97\n"
          ]
        },
        {
          "output_type": "execute_result",
          "data": {
            "text/plain": [
              "Text(0.5, 0.98, 'Confusion Matrix for this Dataset')"
            ]
          },
          "metadata": {},
          "execution_count": 19
        },
        {
          "output_type": "display_data",
          "data": {
            "text/plain": [
              "<Figure size 1224x1224 with 0 Axes>"
            ]
          },
          "metadata": {}
        },
        {
          "output_type": "display_data",
          "data": {
            "text/plain": [
              "<Figure size 432x288 with 2 Axes>"
            ],
            "image/png": "[encoded data removed]"
          },
          "metadata": {
            "needs_background": "light"
          }
        }
      ]
    },
    {
      "cell_type": "markdown",
      "source": [
        "\n",
        "> ### **Analyse:**\n",
        "\n",
        "\n",
        "On analysant la matrice de confusion, on remarque que la majorité des résultats prédis coinsident avec les y observés, ce qui veut dire que la majorité des résulats ont été correctement prédis, a part 2 valeur : \n",
        "\n",
        "-pour une entrée la sortie devrait etre classée 5 alors que le modèle lui a attribué la classe 1.\n",
        "\n",
        "-pour une entrée la sortie devrait etre classée 6 alors que le modèle lui a attribué la classe 15."
      ],
      "metadata": {
        "id": "IlpBJlEIbUMZ"
      }
    },
    {
      "cell_type": "markdown",
      "source": [
        "# **MLP**"
      ],
      "metadata": {
        "id": "7DAB5gggpWVS"
      }
    },
    {
      "cell_type": "markdown",
      "source": [
        "## 1.Apprentissage:"
      ],
      "metadata": {
        "id": "LLcBfYN9dRPt"
      }
    },
    {
      "cell_type": "code",
      "source": [
        "mlp_clf = MLPClassifier(hidden_layer_sizes=(100,50,30),\n",
        "                        max_iter = 300,activation = 'relu',\n",
        "                        solver = 'adam')\n",
        "\n",
        "mlp_clf.fit(X_train, Y_train)"
      ],
      "metadata": {
        "colab": {
          "base_uri": "https://localhost:8080/"
        },
        "id": "kBDTYdTapIAc",
        "outputId": "6ad5d2e5-56dc-4a37-ac12-501e7e52e6c2"
      },
      "execution_count": null,
      "outputs": [
        {
          "output_type": "stream",
          "name": "stderr",
          "text": [
            "/usr/local/lib/python3.8/dist-packages/sklearn/neural_network/_multilayer_perceptron.py:1109: DataConversionWarning: A column-vector y was passed when a 1d array was expected. Please change the shape of y to (n_samples, ), for example using ravel().\n",
            "  y = column_or_1d(y, warn=True)\n"
          ]
        },
        {
          "output_type": "execute_result",
          "data": {
            "text/plain": [
              "MLPClassifier(hidden_layer_sizes=(100, 50, 30), max_iter=300)"
            ]
          },
          "metadata": {},
          "execution_count": 25
        }
      ]
    },
    {
      "cell_type": "markdown",
      "source": [
        "## 2.Predictions :"
      ],
      "metadata": {
        "id": "K32Ajd1pdbAu"
      }
    },
    {
      "cell_type": "code",
      "source": [
        "y_pred = mlp_clf.predict(X_test)\n",
        "print(y_pred)\n",
        "\n",
        "print('==>  Accuracy: {:.2f}'.format(accuracy_score(Y_test, y_pred)))"
      ],
      "metadata": {
        "colab": {
          "base_uri": "https://localhost:8080/"
        },
        "id": "Xt8B6kEmILEq",
        "outputId": "7d697e8e-04c7-4b79-8328-6db9c4bcd050"
      },
      "execution_count": null,
      "outputs": [
        {
          "output_type": "stream",
          "name": "stdout",
          "text": [
            "['classe 1' 'classe 1' 'classe 1' 'classe 1' 'classe 1' 'classe 2'\n",
            " 'classe 2' 'classe 2' 'classe 2' 'classe 2' 'classe 3' 'classe 3'\n",
            " 'classe 3' 'classe 3' 'classe 3' 'classe 4' 'classe 4' 'classe 4'\n",
            " 'classe 4' 'classe 4' 'classe 5' 'classe 5' 'classe 5' 'classe 5'\n",
            " 'classe 5' 'classe 6' 'classe 6' 'classe 6' 'classe 6' 'classe 12'\n",
            " 'classe 7' 'classe 7' 'classe 7' 'classe 7' 'classe 7' 'classe 8'\n",
            " 'classe 8' 'classe 8' 'classe 8' 'classe 8' 'classe 9' 'classe 9'\n",
            " 'classe 9' 'classe 9' 'classe 9' 'classe 10' 'classe 10' 'classe 10'\n",
            " 'classe 10' 'classe 10' 'classe 11' 'classe 11' 'classe 11' 'classe 11'\n",
            " 'classe 11' 'classe 12' 'classe 12' 'classe 12' 'classe 12' 'classe 12'\n",
            " 'classe 13' 'classe 13' 'classe 13' 'classe 13' 'classe 13' 'classe 14'\n",
            " 'classe 14' 'classe 14' 'classe 14' 'classe 14' 'classe 15' 'classe 15'\n",
            " 'classe 15' 'classe 15' 'classe 15']\n",
            "==>  Accuracy: 0.99\n"
          ]
        }
      ]
    },
    {
      "cell_type": "markdown",
      "source": [
        "\n",
        "> ### Commentaires:\n",
        "On a obtenue une présision de 99% sur les données de test ce qui est juger trés bon."
      ],
      "metadata": {
        "id": "0G0norzOdfp4"
      }
    },
    {
      "cell_type": "markdown",
      "source": [
        "## 3.Matrice de confusion :"
      ],
      "metadata": {
        "id": "WggE0FU5dxIT"
      }
    },
    {
      "cell_type": "code",
      "source": [
        "plt.figure(figsize=(17,17))\n",
        "fig = plot_confusion_matrix(mlp_clf, X_test, Y_test, display_labels=mlp_clf.classes_)\n",
        "fig.figure_.suptitle(\"Confusion Matrix for this Dataset\")\n"
      ],
      "metadata": {
        "colab": {
          "base_uri": "https://localhost:8080/",
          "height": 397
        },
        "id": "WzfvHCj_Iiyg",
        "outputId": "0353f721-0f71-40c1-fdee-548935a31af3"
      },
      "execution_count": null,
      "outputs": [
        {
          "output_type": "stream",
          "name": "stderr",
          "text": [
            "/usr/local/lib/python3.8/dist-packages/sklearn/utils/deprecation.py:87: FutureWarning: Function plot_confusion_matrix is deprecated; Function `plot_confusion_matrix` is deprecated in 1.0 and will be removed in 1.2. Use one of the class methods: ConfusionMatrixDisplay.from_predictions or ConfusionMatrixDisplay.from_estimator.\n",
            "  warnings.warn(msg, category=FutureWarning)\n"
          ]
        },
        {
          "output_type": "execute_result",
          "data": {
            "text/plain": [
              "Text(0.5, 0.98, 'Confusion Matrix for this Dataset')"
            ]
          },
          "metadata": {},
          "execution_count": 27
        },
        {
          "output_type": "display_data",
          "data": {
            "text/plain": [
              "<Figure size 1224x1224 with 0 Axes>"
            ]
          },
          "metadata": {}
        },
        {
          "output_type": "display_data",
          "data": {
            "text/plain": [
              "<Figure size 432x288 with 2 Axes>"
            ],
            "image/png": "[encoded data removed]"
          },
          "metadata": {
            "needs_background": "light"
          }
        }
      ]
    },
    {
      "cell_type": "markdown",
      "source": [
        "\n",
        "\n",
        "> ### **Analyse:**\n",
        "\n",
        "\n",
        "On analysant la matrice de confusion, on remarque que tous les résultats prédis coinsident avec les y observés, ce qui veut dire que tout nos  données de test ont été correctement prédis, a part  une seule valeur pour une entrée la sortie devrait etre classée 6 alors que le modèle lui a attribué à la classe 12.\n"
      ],
      "metadata": {
        "id": "UiLBncS3d_ic"
      }
    },
    {
      "cell_type": "markdown",
      "source": [
        "## 4.Loss curve:"
      ],
      "metadata": {
        "id": "nA9vmmtNI9xP"
      }
    },
    {
      "cell_type": "code",
      "source": [
        "plt.plot(mlp_clf.loss_curve_)\n",
        "plt.title(\"Loss Curve\", fontsize=14)\n",
        "plt.xlabel('Iterations')\n",
        "plt.ylabel('Cost')\n",
        "plt.show()"
      ],
      "metadata": {
        "colab": {
          "base_uri": "https://localhost:8080/",
          "height": 296
        },
        "id": "0oKd8XMWIwXg",
        "outputId": "f37fe90a-d4e4-4724-ba5e-1b5541028b4e"
      },
      "execution_count": null,
      "outputs": [
        {
          "output_type": "display_data",
          "data": {
            "text/plain": [
              "<Figure size 432x288 with 1 Axes>"
            ],
            "image/png": "[encoded data removed]"
          },
          "metadata": {
            "needs_background": "light"
          }
        }
      ]
    },
    {
      "cell_type": "markdown",
      "source": [
        "\n",
        "\n",
        "> ### Commentaires:\n",
        "\n",
        "\n",
        "Cette coube du loss fonction (fonction cout)  nous montre que cette fonction déminue et elle stabilise (atteint son minimum) au 30 iterations, donc on peut se limiter a 30 iterations et c'est suffisant pour converger nos paramètres."
      ],
      "metadata": {
        "id": "KRnsvNLwlJTj"
      }
    },
    {
      "cell_type": "markdown",
      "source": [
        "# 8.Comparaison des deux méthodes de classification:"
      ],
      "metadata": {
        "id": "lIUBUWjTmbNz"
      }
    },
    {
      "cell_type": "markdown",
      "source": [
        "KNN et MLP donnent des performances presque similaires, sauf que MLP fonctionne légèrement mieux sur nos données de training et donne un taux d'erreur légèrement inférieur sur les données de test ( une seule valeur fause pour MLP et 2 valeur fausse pour KNN) .\n",
        "\n",
        "les performances du modele MLP sont plus améliorées avec un score de **0,99** en comparaison avec celles du classifieur KNN qui a donner un score de **0,98** utilisé pour la reconaissance faciale   \n",
        "\n",
        "\n",
        "Les performances du classificateur k-NN utilisé ici dépendent sur la distance et la valeur de k choisie pour le travail alors que les performances du model MLP dépendent sur le choix du nombre des couches cacher, ce dernier est basé sur la retropropagation c'est pour ça qu'il donne de meilleurs resultats, a chaque l'erreur est calculer et modifie les poids synaptiques de telle sorte que la fonction cout converge vers son minimum globale.\n",
        "\n"
      ],
      "metadata": {
        "id": "CrOponyawTYy"
      }
    },
    {
      "cell_type": "markdown",
      "source": [
        "# 9.Quelles sont les images qui ont été mal classées ? Justifier"
      ],
      "metadata": {
        "id": "jrQwzM_NeukS"
      }
    },
    {
      "cell_type": "markdown",
      "source": [
        "on remarque que dans les 2 matrice de confusion il y a une valeur de la classe 6 qui est mal representer dans les deux méthodes de classification, donc les images de la classe 6 sont mal classées Ce qui peut etre expliqué par le fait que les images de la classe 6 sont un peu similaires les émotions de la personne ne sont pas trés claires."
      ],
      "metadata": {
        "id": "XAtJzXIP1dfm"
      }
    },
    {
      "cell_type": "markdown",
      "source": [
        "# 10.Propositions pour améliorer les les performances atteintes:\n",
        "On peut ameliorer les performences de ces modeles, a travers:\n",
        "*   Bien choisir les parametres (le nombre de couches cachees pour le MLP et le K pour le KNN ), ainsi que learning rate.\n",
        "*   Fournir davantage d’échantillons de données: plus notre echantillon de depart sera grand plus on aura de pressision sur les donnees predites.\n",
        "*  Centrer et reduire nos donnees pour les mettre sur le meme echelle.\n",
        "* Examiner la courbe d’apprentissage pour voir si l’algorithme utilisé sur-apprend (overfitting) ou sous-apprend (underfitting) le problème étudié.\n",
        "\n"
      ],
      "metadata": {
        "id": "jyiSggCamqEY"
      }
    },
    {
      "cell_type": "markdown",
      "source": [
        "## **Conclusion:**\n",
        "A travers ce projet, On a pu crée un modèle de reconaissance faciale qui va classifier des images de 15 personnes.\n",
        "\n",
        "\n",
        "*   Pour cela, on a passer par plusieurs étapes:\n",
        "\n",
        "\n",
        "# 1. Prétraitement: \n",
        "dans cette étape, on a préparer nos données(images)pour qu'elles soient prètent à l'utilisation, on les a converti en images, et on les a coupées pour garder juste la partie du visage.(il y a plusieurs types de prétraitements qui peuvent etre effectués selon le type de données d'entrées.)\n",
        "# 2. Génération ces caractéristiques:\n",
        " dans cette étape on a calculer le vecteur caractéristique de chaque image, ce vecteur caractéristique vérifie l'hypothese **\"minimiser la variabilité intraclasse et maximiser la variabilité extraclasse\"**.\n",
        "# 3. Classification: \n",
        "Aprés avoir séparer les données en données d'apprentissage et de test, on arrive a la dernière étape qui est la classification, dans ce projet on a crée deux modèles de classification à l'aide de deux méthodes:\n",
        "\n",
        "\n",
        "*   Une méthode de classification par modélisation en utilisant l'algorithme des k plus proches voisins **KNN** : cet algorithme calcule les distances entre le vecteur caracteristique de l'image qu'on veut classer et les tous les vecteurs caracteristiques des images qui constitues l'ensemble d'apprentissage, et à la fin, il choisi la distance minimale si le k=1, mais si k>1 il va choissir les k distances minimale Par la suite, l'image inconnue est affectée après un vote majoritaire entre les k plus petites distances à la classe qui remportera le vote.\n",
        "*   Une méthode de classification par séparation en utilisant l'algorithme des réseaux de neurones multichouches **MLP** : cet algorithme est compose d'une couche de neurones d'entrée dont le taille est la taille du vecteur caractéristique et une  couche de sortie dont la taille est le nombre de classes(dans notre projet  la taille est 15), entre la couche d'entrée et la couche de sortie il y a des couches cachées,au depart le vecteur caractéristique sera le input de la couche d'entrée ;aprés ses composantes vont subir une combinaison lineaire et puis on va applique la fonction sigmoide a ce résultat. Chaque couche cachée va prendre comme entrée la sortie de la couche qui la precède, on va procéder a des iterations pour converger notre solution ou à chaque fois on va calculer l'erreur (fonction cout) et on va mettre à jour les poids synaptiques(les coefficients de la combinaison lineaire ), du réseau en minimisant l'erreur quadratique moyenne E entre la sortie réelle et la sortie prédite Yt et Y respectivement(rétropropagation du gradient).\n",
        "\n",
        "* Ces deux méthodes ont tous les deux résussi a nous donner d'excellents résultats avec des accuracy > 0.97, d'aprés les matrices de confusions, on peut juger que la méthode des réseaux de neurones multicouches a donnée des résultats mieux que la méthode des k plus proches voisin.\n",
        "* L'estimation des paramétres (k pour l'algorithme KNN et les poids, le pas d'aprentissage, le momentum et le nombre des couches caches pour l'algorithme MLP ) est trés importante, par exemple un k trés petit(KNN) ou un nombre petit de couches cachées (MLP) peut induire un **underfitting** alors que un k trés grand (KNN) ou un nombre trés grand de couches cachées (MLP) peut induire un **underfitting**, c'est pour ça qu'il faut bien choisir ces paramétres.\n",
        "*  la meme chose pour le paramétre learning rate (pas d'apprentissage) s'il est trés petit, on peut jamais arriver à la solution et s'il est trés grand on\n",
        "risque de sauter d’un côté de la solution optimale à l’autre sans jamais se\n",
        "rapprocher d'elle.\n",
        "\n",
        "\n",
        "\n",
        "\n",
        "\n"
      ],
      "metadata": {
        "id": "se5Ae7eI_xUf"
      }
    },
    {
      "cell_type": "code",
      "source": [],
      "metadata": {
        "id": "ZzjvK9tHV0uB"
      },
      "execution_count": null,
      "outputs": []
    }
  ]
}